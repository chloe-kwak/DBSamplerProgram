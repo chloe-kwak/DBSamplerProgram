{
 "cells": [
  {
   "cell_type": "markdown",
   "id": "166899ca-5313-4c19-9fd4-2320a18ae8f4",
   "metadata": {},
   "source": [
    "# Amazon OpenSearch hands-on lab\n",
    "본 워크샵을 통해 Amazon DynamoDB를 SageMaker Notebook 또는 SageMaker Studio 환경에서 간단히 실습합니다.\n",
    "\n",
    "AWS Workshop Studio의 ['Dive into OpenSearch Service - 모듈 1'](https://catalog.us-east-1.prod.workshops.aws/workshops/f0213896-4dd9-494a-89c5-f7886b45ed4a/ko-KR/search)을 참고하였습니다. "
   ]
  },
  {
   "cell_type": "markdown",
   "id": "13175714-4a6c-4576-b7ec-0c6427af474a",
   "metadata": {},
   "source": [
    "## 0. Setup Environment"
   ]
  },
  {
   "cell_type": "code",
   "execution_count": null,
   "id": "6523e89b-cadb-4cb2-8d9b-ecab355a6c9d",
   "metadata": {
    "tags": []
   },
   "outputs": [],
   "source": [
    "!pip install boto3 -U"
   ]
  },
  {
   "cell_type": "code",
   "execution_count": null,
   "id": "9a372705-5bc8-4e94-8289-9f995f36fb46",
   "metadata": {
    "tags": []
   },
   "outputs": [],
   "source": [
    "# OpenSearch 사용자 이름 및 비밀번호를 지정 합니다.\n",
    "username = 'admin'\n",
    "password = 'Passw0rd!'"
   ]
  },
  {
   "cell_type": "markdown",
   "id": "4a391618-a39e-441b-b42c-6b254786900a",
   "metadata": {},
   "source": [
    "## 1. OpenSearch 도메인 생성"
   ]
  },
  {
   "cell_type": "code",
   "execution_count": null,
   "id": "70a18f5b-0f2e-483e-9145-c79d1f531561",
   "metadata": {
    "tags": []
   },
   "outputs": [],
   "source": [
    "import boto3\n",
    "import time\n",
    "\n",
    "def create_opensearch_domain(domain_name):\n",
    "    client = boto3.client('opensearch')\n",
    "\n",
    "    response = client.create_domain(\n",
    "        DomainName=domain_name,\n",
    "        EngineVersion='OpenSearch_2.17',\n",
    "        ClusterConfig={\n",
    "            'InstanceType': 'r6g.large.search',\n",
    "            'InstanceCount': 2,\n",
    "            'DedicatedMasterEnabled': False,\n",
    "            'ZoneAwarenessEnabled': False,\n",
    "        },\n",
    "        EBSOptions={\n",
    "            'EBSEnabled': True,\n",
    "            'VolumeType': 'gp3',\n",
    "            'VolumeSize': 100,\n",
    "        },\n",
    "        DomainEndpointOptions={\n",
    "            'EnforceHTTPS': True,\n",
    "            'TLSSecurityPolicy': 'Policy-Min-TLS-1-2-2019-07',\n",
    "        },\n",
    "        NodeToNodeEncryptionOptions={\n",
    "            'Enabled': True,\n",
    "        },\n",
    "        EncryptionAtRestOptions={\n",
    "            'Enabled': True,\n",
    "        },\n",
    "        AdvancedSecurityOptions={\n",
    "            'Enabled': True,\n",
    "            'InternalUserDatabaseEnabled': True,\n",
    "            'MasterUserOptions': {\n",
    "                'MasterUserName': username,\n",
    "                'MasterUserPassword': password\n",
    "            }\n",
    "        },\n",
    "    )\n",
    "\n",
    "    print(response)\n",
    "\n",
    "    endpoint_url = wait_for_domain_creation(client, domain_name)\n",
    "\n",
    "    return endpoint_url\n",
    "\n",
    "\n",
    "def wait_for_domain_creation(client, domain_name, wait_period=60, retries=30):\n",
    "    \"\"\"\n",
    "    OpenSearch 도메인이 활성화될 때까지 기다린 후 도메인 엔드포인트 URL 반환\n",
    "\n",
    "    :param client: boto3 OpenSearch client\n",
    "    :param domain_name: OpenSearch 도메인 이름\n",
    "    :param wait_period: 각 시도 사이에 대기할 시간 (초)\n",
    "    :param retries: 최대 시도 횟수\n",
    "    :return: 도메인 엔드포인트 URL\n",
    "    \"\"\"\n",
    "    for _ in range(retries):\n",
    "        describe_response = client.describe_domain(DomainName=domain_name)\n",
    "        if 'Endpoint' in describe_response['DomainStatus']:\n",
    "            return describe_response['DomainStatus']['Endpoint']\n",
    "        time.sleep(wait_period)\n",
    "    raise Exception(\"Domain creation timeout\")"
   ]
  },
  {
   "cell_type": "code",
   "execution_count": null,
   "id": "78f9f113-3b67-4e83-9982-08046e3c899a",
   "metadata": {
    "tags": []
   },
   "outputs": [],
   "source": [
    "# OpenSearch 도메인 생성 (약 15분 소요)\n",
    "\n",
    "domain_name = 'my-opensearch-domain1'\n",
    "endpoint_url = create_opensearch_domain(domain_name)"
   ]
  },
  {
   "cell_type": "markdown",
   "id": "9a18e1d2-932e-4b9b-93de-1db19b5d6bbb",
   "metadata": {},
   "source": [
    "## 2. 도메인 보안 설정 업데이트 (AWS Console에서 작업)"
   ]
  },
  {
   "cell_type": "markdown",
   "id": "76f4354a-7b60-4747-86ae-5e4b6918766f",
   "metadata": {},
   "source": [
    "<b>생성한 도메인 보안 설정을 수정합니다.</b><br>\n",
    "새로운 탭에서 [Amazon OpenSearch 콘솔](https://us-east-1.console.aws.amazon.com/aos/home?#opensearch/domains)을 엽니다.<br>"
   ]
  },
  {
   "cell_type": "markdown",
   "id": "42f7a2ab-3396-4d9c-8a8c-09501704ed07",
   "metadata": {},
   "source": [
    "생성된 도메인의 이름을 선택 합니다.<br>\n",
    "![](./img/os-edit-security-config1.png)"
   ]
  },
  {
   "cell_type": "markdown",
   "id": "1f2e9634-bac0-4fc7-87fd-fb334a401c2f",
   "metadata": {},
   "source": [
    "화면 우측 상단의 <b>Actions</b>에서 Edit security configuration을 선택 합니다.<br>\n",
    "![](./img/os-edit-security-config2.png)"
   ]
  },
  {
   "cell_type": "markdown",
   "id": "01a080fe-ecc2-414f-902b-045cde5fb50b",
   "metadata": {},
   "source": [
    "<b>Access Policy</b>에서 Domain access policy 부분에서 <b>Only use fine-grained access control</b>을 선택한 뒤, 페이지 맨 하단의 <b>Save Changes</b>를 클릭 합니다.\n",
    "![](./img/os-edit-security-config3.png)"
   ]
  },
  {
   "cell_type": "markdown",
   "id": "d1ca8c10-6d64-4f55-bb56-f8aab28e9cfc",
   "metadata": {},
   "source": [
    "## 3. Index 설정\n",
    "\n",
    "먼저 데이터를 가져올 인덱스를 만듭니다."
   ]
  },
  {
   "cell_type": "markdown",
   "id": "7228c395-438d-4530-be8f-d61439f33614",
   "metadata": {},
   "source": [
    "### 3.1 Index 생성"
   ]
  },
  {
   "cell_type": "code",
   "execution_count": null,
   "id": "b427c6e6-17cc-464e-a9a2-8da3b3d3c412",
   "metadata": {
    "tags": []
   },
   "outputs": [],
   "source": [
    "endpoint_url"
   ]
  },
  {
   "cell_type": "code",
   "execution_count": null,
   "id": "8b22d1d0-821b-4d22-b35e-d95db13473bc",
   "metadata": {
    "tags": []
   },
   "outputs": [],
   "source": [
    "# OpenSearch Service의 엔드포인트 URL\n",
    "endpoint = 'https://'+endpoint_url"
   ]
  },
  {
   "cell_type": "markdown",
   "id": "75186751-b311-4146-8964-864290ebceeb",
   "metadata": {},
   "source": [
    "먼저 데이터를 가져올 인덱스를 만듭니다.\n",
    "<br>\n",
    "\n",
    "```\n",
    "PUT /my-movie-index\n",
    "{\n",
    "  \"settings\": {\n",
    "    \"index\": {\n",
    "      \"number_of_shards\": 3,\n",
    "      \"number_of_replicas\": 1\n",
    "    }\n",
    "  }\n",
    "}\n",
    "\n",
    "```"
   ]
  },
  {
   "cell_type": "code",
   "execution_count": null,
   "id": "57670ebe-e444-42bc-bdee-68fb6f0fb22c",
   "metadata": {
    "tags": []
   },
   "outputs": [],
   "source": [
    "import requests\n",
    "from requests.auth import HTTPBasicAuth\n",
    "import boto3\n",
    "\n",
    "\n",
    "# PUT 요청 URL\n",
    "url = endpoint + '/my-movie-index'\n",
    "\n",
    "# HTTP 헤더\n",
    "headers = { \"Content-Type\": \"application/json\" }\n",
    "\n",
    "# 요청 본문\n",
    "payload = {\n",
    "  \"settings\": {\n",
    "    \"index\": {\n",
    "      \"number_of_shards\": 3,\n",
    "      \"number_of_replicas\": 1\n",
    "    }\n",
    "  }\n",
    "}\n",
    "\n",
    "response = requests.put(url, auth=HTTPBasicAuth(username, password), json=payload, headers=headers)\n",
    "\n",
    "# 응답 확인\n",
    "print(response.status_code)\n",
    "print(response.text)\n"
   ]
  },
  {
   "cell_type": "markdown",
   "id": "2c1c335a-48a7-4096-8dc6-40ff0db3947e",
   "metadata": {},
   "source": [
    "### 3.2 Index 생성 확인"
   ]
  },
  {
   "cell_type": "markdown",
   "id": "47d9df3e-0bd6-4996-b98d-1c6d6ea28e96",
   "metadata": {},
   "source": [
    "```\n",
    "GET /my-movie-index \n",
    "\n",
    "```"
   ]
  },
  {
   "cell_type": "code",
   "execution_count": null,
   "id": "101b6d29-3b06-4de5-bfe7-81f353a0a66b",
   "metadata": {
    "tags": []
   },
   "outputs": [],
   "source": [
    "# GET 요청 URL\n",
    "url = endpoint + '/my-movie-index'\n",
    "\n",
    "# HTTP 헤더\n",
    "headers = { \"Content-Type\": \"application/json\" }\n",
    "\n",
    "response = requests.get(url, auth=HTTPBasicAuth(username, password), headers=headers)\n",
    "\n",
    "# 응답 확인\n",
    "print(response.status_code)\n",
    "print(response.text)\n"
   ]
  },
  {
   "cell_type": "markdown",
   "id": "ba12cd16-ba13-4603-9958-a3f975321249",
   "metadata": {},
   "source": [
    "## 4. 데이터 삽입\n",
    "\n",
    "로컬에 위치한 ./data/imdb-data-for-indexing.txt 내용을 OpenSearch에 넣습니다."
   ]
  },
  {
   "cell_type": "code",
   "execution_count": null,
   "id": "65d515cc-90ff-4050-9520-649bec6dc65a",
   "metadata": {
    "tags": []
   },
   "outputs": [],
   "source": [
    "import requests\n",
    "from requests.auth import HTTPBasicAuth\n",
    "import json\n",
    "\n",
    "# POST 요청 URL (my-movie-index의 movies 타입에 문서 삽입)\n",
    "url = endpoint + '/my-movie-index/_doc/_bulk'\n",
    "\n",
    "# HTTP 헤더\n",
    "headers = { \"Content-Type\": \"application/x-ndjson\" }\n",
    "\n",
    "# 삽입할 데이터 파일 경로\n",
    "data_file_path = './data/imdb-data-for-indexing.txt'\n",
    "\n",
    "# 파일을 열고 각 줄을 JSON 형태로 읽기\n",
    "with open(data_file_path, 'r') as file:\n",
    "    lines = file.readlines()\n",
    "    bulk_data = ''\n",
    "\n",
    "    for i in range(1, len(lines), 2):  # 1에서 시작하여 2씩 증가\n",
    "        index_line = json.loads(lines[i])\n",
    "        data_line = lines[i+1]\n",
    "\n",
    "        bulk_data += json.dumps(index_line) + '\\n' + data_line  # \\n으로 index line과 data line 구분\n",
    "\n",
    "    response = requests.post(url, auth=HTTPBasicAuth(username, password), headers=headers, data=bulk_data.encode('utf-8'))\n",
    "\n",
    "    # 응답 확인\n",
    "    print(response.status_code)\n",
    "    print(response.text)\n"
   ]
  },
  {
   "cell_type": "markdown",
   "id": "f37fbb5c-d948-4096-ab17-c2e9274d0a01",
   "metadata": {},
   "source": [
    "## 5. 데이터 쿼리하기"
   ]
  },
  {
   "cell_type": "markdown",
   "id": "d91d7a3f-2ec0-4e8c-bb35-34c214b56136",
   "metadata": {},
   "source": [
    "### 5.1 심플 쿼리\n",
    "\n",
    "매개변수 없이 검색 API를 실행하면 필터링 없이 인덱스에서 결과를 제공합니다.<br>\n",
    "검색 필터가 제공하지 않은 모든 문서가 검색 결과에 포함됩니다.<br><br>\n",
    "\n",
    "```\n",
    "GET /my-movie-index/_search\n",
    "```\n",
    "<br>\n",
    "\n",
    "방금 검색한 데이터는 다음 두 단계에서 수행됩니다.\n",
    "\n",
    "- 쿼리 단계 - 이 단계에서는 쿼리가 각 샤드에서 로컬로 실행되고 일치하는 문서 ID가 쿼리 노드로 반환됩니다. 쿼리 노드는 이러한 레코드를 병합하고 정렬된 목록을 만듭니다.\n",
    "- 패칭 단계 - 이 단계에서 쿼리 노드는 ID에서 실제 데이터를 가져와 클라이언트에 반환합니다.\n",
    "\n"
   ]
  },
  {
   "cell_type": "code",
   "execution_count": null,
   "id": "17934fad-2359-4efd-a158-b0612684238d",
   "metadata": {
    "tags": []
   },
   "outputs": [],
   "source": [
    "import requests\n",
    "from requests.auth import HTTPBasicAuth\n",
    "\n",
    "# GET 요청 URL\n",
    "url = endpoint + '/my-movie-index/_search'\n",
    "\n",
    "response = requests.get(url, auth=HTTPBasicAuth(username, password))\n",
    "\n",
    "# 응답 확인\n",
    "print(response.status_code)\n",
    "print(response.text)\n"
   ]
  },
  {
   "cell_type": "markdown",
   "id": "d6197ea8-45f1-46e1-9675-626697066329",
   "metadata": {},
   "source": [
    "[참고]\n",
    "OpenSearch에서 쿼리를 실행할 때 여러분은 엔드포인트로 요청을 보내고, 이는 라운드 로빈 형식으로 OpenSearch 클러스터의 데이터 노드에 요청됩니다. 한 노드가 요청을 받으면, 이를 해당 쿼리에 대한 코디네이터 노드라고 하며 요청된 인덱스에 대한 샤드를 저장하는 실제 데이터 노드에서 데이터 검색을 시작합니다. 코디네이터 노드는 쿼리되는 인덱스와 관련된 데이터를 갖고 있을 수도 있고 갖고있지 않을 수도 있습니다."
   ]
  },
  {
   "cell_type": "markdown",
   "id": "96fcd6bc-9e17-44a2-9cc3-921fcc131acf",
   "metadata": {},
   "source": [
    "OpenSearch는 간단한 URL 기반 쿼리 구문과 더 복잡한 REST 기반 JSON 인터페이스를 지원합니다. <br>\n",
    "OpenSearch를 사용할 때 JSON API를 가장 자주 사용하게 됩니다. 살짝 물에 발을 담궈보고 싶다면, 다음 URL 기반 쿼리를 실행하여 쿼리 매개변수로 간단한 검색을 실행합니다.<br><br>\n",
    "\n",
    "```\n",
    "GET /my-movie-index/_search?q=franco\n",
    "```\n",
    "<br>\n",
    "\n",
    "OpenSearch에서 'franco'가 포함된 모든 문서를 검색하는 GET 요청을 실행합니다. 이 요청은 'franco'라는 단어가 포함된 문서를 검색하므로, 검색 결과에는 'franco'라는 단어가 언급된 모든 문서가 포함됩니다. "
   ]
  },
  {
   "cell_type": "code",
   "execution_count": null,
   "id": "9ae763ab-3042-4dea-8c02-3769de1b0386",
   "metadata": {
    "tags": []
   },
   "outputs": [],
   "source": [
    "import requests\n",
    "from requests.auth import HTTPBasicAuth\n",
    "\n",
    "# GET 요청 URL\n",
    "url = endpoint + '/my-movie-index/_search?q=franco'\n",
    "\n",
    "response = requests.get(url, auth=HTTPBasicAuth(username, password))\n",
    "\n",
    "# 응답 확인\n",
    "print(response.status_code)\n",
    "print(response.text)\n"
   ]
  },
  {
   "cell_type": "markdown",
   "id": "ef5a76e5-7347-4e20-a41a-894da215c124",
   "metadata": {},
   "source": [
    "### 5.2 Term 쿼리\n",
    "\n",
    "term 쿼리는 검색어와 정확히 일치하는 문서를 반환합니다. <br>\n",
    "출력을 검사하고 반환된 모든 문서에 <i>directors.keyword</i> 용어가 포함되어 있는지 확인합니다. 키워드 값을 다양하게 변형해 보십시오.<br><br>\n",
    "\n",
    "```\n",
    "GET my-movie-index/_search\n",
    "{\n",
    "  \"query\": {\n",
    "    \"term\": {\n",
    "      \"directors.keyword\": {\n",
    "        \"value\": \"James Franco\"\n",
    "      }\n",
    "    }\n",
    "  }\n",
    "}\n",
    "```\n",
    "<br>\n"
   ]
  },
  {
   "cell_type": "code",
   "execution_count": null,
   "id": "48d3c48a-9025-4153-a131-f4645f925ce9",
   "metadata": {
    "tags": []
   },
   "outputs": [],
   "source": [
    "import requests\n",
    "from requests.auth import HTTPBasicAuth\n",
    "import json\n",
    "\n",
    "# GET 요청 URL\n",
    "url = endpoint + '/my-movie-index/_search'\n",
    "\n",
    "# 검색 쿼리\n",
    "query = {\n",
    "    \"query\": {\n",
    "        \"term\": {\n",
    "            \"directors.keyword\": {\n",
    "                \"value\": \"James Franco\"\n",
    "            }\n",
    "        }\n",
    "    }\n",
    "}\n",
    "\n",
    "response = requests.get(url, auth=HTTPBasicAuth(username, password), json=query)\n",
    "\n",
    "# 응답 확인\n",
    "print(response.status_code)\n",
    "print(json.dumps(response.json(), indent=4))\n"
   ]
  },
  {
   "cell_type": "markdown",
   "id": "6d0da3b2-c9c2-46cf-bc40-895563b50df0",
   "metadata": {},
   "source": [
    "### 5.3 Keyword를 이용한 쿼리\n",
    "\n",
    "OpenSearch에는 다양한 쿼리 유형을 지원하는 풍부한 쿼리 인터페이스가 있습니다.<br>\n",
    "- Term 쿼리 - 용어를 정확히 일치시키려는 경우 이 쿼리 계열을 사용합니다. keyword 필드와 함께 용어 쿼리를 자주 사용합니다.\n",
    "- Match 쿼리 - 긴 텍스트에서 매칭하고 특히 OpenSearch의 관련성을 사용하여 결과를 정렬할 때 이 쿼리 계열을 사용합니다. text 필드와 함께 이러한 쿼리를 가장 자주 사용합니다.\n",
    "<br>\n",
    "그렇다면 <span style='color: #2D3748; background-color: #fff5b1'>keyword</span> 필드와 <span style='color: #2D3748; background-color: #fff5b1'>text</span> 필드의 차이점은 무엇입니까? <br>\n",
    "OpenSearch는 analysis 라고 하는 프로세스로 text 필드의 문자열을 처리합니다. 분석하는 동안 OpenSearch는 텍스트를 <i>세그먼트(segment)화</i> 하여 개별 <i>용어(term)</i> 를 추출합니다. 용어를 공백으로 구분된 단어로 생각할 수 있지만 일부 언어, 예를 들어 일본어, 한국어와 같은 아시아 언어에는 더 복잡하고 상황 인지가 필요한 세분화된 내용이 있습니다. OpenSearch는 용어의 스트림을 추가로 처리하여 구성 가능한 변환 세트를 적용하고, <i>불용어(stop word)</i> 라는 일반적인 단어를 제거하고, 단어를 공통 어간 형식으로 줄이고, 동의어를 추가하고, 소문자로 변환하는 등의 작업을 수행합니다.\n",
    "<br><br>\n",
    "Keyword 필드는 매칭을 위한 단일 용어를 제공합니다. OpenSearch는 <span style='color: #2D3748; background-color: #fff5b1'>Keyword</span> 필드에 텍스트 변환을 적용하지 않습니다.\n",
    "<br>\n",
    "\n",
    "```\n",
    "GET my-movie-index/_search\n",
    "{\n",
    "  \"query\": {\n",
    "    \"term\": {\n",
    "      \"title\": \"transformers\"\n",
    "    }\n",
    "  }\n",
    "}\n",
    "```\n",
    "\n",
    "<br>"
   ]
  },
  {
   "cell_type": "code",
   "execution_count": null,
   "id": "1d43590f-1ebd-4f3b-8fea-060492e2504a",
   "metadata": {
    "tags": []
   },
   "outputs": [],
   "source": [
    "import requests\n",
    "from requests.auth import HTTPBasicAuth\n",
    "import json\n",
    "\n",
    "# GET 요청 URL\n",
    "url = endpoint + '/my-movie-index/_search'\n",
    "\n",
    "# 검색 쿼리\n",
    "query = {\n",
    "    \"query\": {\n",
    "        \"term\": {\n",
    "            \"title\": \"transformers\"\n",
    "        }\n",
    "    }\n",
    "}\n",
    "\n",
    "response = requests.get(url, auth=HTTPBasicAuth(username, password), json=query)\n",
    "\n",
    "# 응답 확인\n",
    "print(response.status_code)\n",
    "print(json.dumps(response.json(), indent=4))"
   ]
  },
  {
   "cell_type": "markdown",
   "id": "eec0c77f-f840-40ba-b9d0-dec778ded97d",
   "metadata": {},
   "source": [
    ">[Note]<br>\n",
    ">전달된 텍스트는 분석기를 통해 소문자로 변환됩니다. Transformers에 대해 위의 쿼리에서 transformers로 검색한 것을 확인하십시오. 즉, term 쿼리(토큰화된 단어에 대한 대소문자 구분 검색)를 수행할 때 transformers로 검색하면 일치된 항목을 찾지만 Transformers로 검색은 찾을 수 없습니다.\n"
   ]
  },
  {
   "cell_type": "markdown",
   "id": "29f3edc0-8483-4a92-b4ca-feca5afe84ac",
   "metadata": {},
   "source": [
    "<span style='color: #2D3748; background-color: #fff5b1'>_analyze</span> API를 사용하여 OpenSearch가 입력한 텍스트를 어떻게 변환하는지 확인할 수 있습니다.<br>\n",
    "```\n",
    "GET my-movie-index/_analyze\n",
    "{\n",
    "  \"analyzer\": \"default\",\n",
    "  \"text\": [\"Transformers\"]\n",
    "}\n",
    "```\n",
    "\n",
    "이 쿼리는 \"Transformers\"라는 텍스트에 대해 OpenSearch의 \"default\" 분석기를 사용하여 텍스트 분석을 실행합니다. "
   ]
  },
  {
   "cell_type": "code",
   "execution_count": null,
   "id": "74c798ad-ed46-432f-9f4b-aa787becd473",
   "metadata": {
    "tags": []
   },
   "outputs": [],
   "source": [
    "import requests\n",
    "from requests.auth import HTTPBasicAuth\n",
    "import json\n",
    "\n",
    "# POST 요청 URL (GET 대신 POST를 사용해야 분석을 실행할 수 있습니다)\n",
    "url = endpoint + '/my-movie-index/_analyze'\n",
    "\n",
    "# 분석 요청 본문\n",
    "body = {\n",
    "    \"analyzer\": \"default\",\n",
    "    \"text\": [\"Transformers\"]\n",
    "}\n",
    "\n",
    "response = requests.post(url, auth=HTTPBasicAuth(username, password), json=body)\n",
    "\n",
    "# 응답 확인\n",
    "print(response.status_code)\n",
    "print(json.dumps(response.json(), indent=4))\n"
   ]
  },
  {
   "cell_type": "markdown",
   "id": "88f96a54-1e2a-4670-8e1d-22c99fd262fb",
   "metadata": {},
   "source": [
    ">[Note]<br>\n",
    ">대소문자를 구분하지 않는 검색의 경우 [simple_query_string](https://opensearch.org/docs/latest/query-dsl/full-text/) 작업을 사용할 수 있습니다. simple_query_string은 검색어의 match 계열에 있습니다.\n"
   ]
  },
  {
   "cell_type": "markdown",
   "id": "3361bab4-0160-4e7c-99c7-a9c9098d8ad2",
   "metadata": {},
   "source": [
    "```\n",
    "POST my-movie-index/_search\n",
    "{\n",
    "  \"query\": {\n",
    "    \"simple_query_string\": {\n",
    "      \"query\": \"Transformers\",\n",
    "      \"fields\": [\"title\"]\n",
    "    }\n",
    "  }\n",
    "}\n",
    "```\n",
    "<br>\n",
    "이 쿼리는 \"Transformers\"라는 텍스트를 \"title\" 필드에서 검색하는 것입니다."
   ]
  },
  {
   "cell_type": "code",
   "execution_count": null,
   "id": "9aeddb40-f2df-4b6d-9616-1f6739dd1428",
   "metadata": {
    "tags": []
   },
   "outputs": [],
   "source": [
    "import requests\n",
    "from requests.auth import HTTPBasicAuth\n",
    "import json\n",
    "\n",
    "# POST 요청 URL (my-movie-index 검색)\n",
    "url = endpoint + '/my-movie-index/_search'\n",
    "\n",
    "\n",
    "# 검색 요청 본문\n",
    "body = {\n",
    "    \"query\": {\n",
    "        \"simple_query_string\": {\n",
    "            \"query\": \"Transformers\",\n",
    "            \"fields\": [\"title\"]\n",
    "        }\n",
    "    }\n",
    "}\n",
    "\n",
    "response = requests.post(url, auth=HTTPBasicAuth(username, password), json=body)\n",
    "\n",
    "# 응답 확인\n",
    "print(response.status_code)\n",
    "print(json.dumps(response.json(), indent=4))\n"
   ]
  },
  {
   "cell_type": "markdown",
   "id": "bb4896d9-53f2-4019-a0ee-7ac24881602d",
   "metadata": {},
   "source": [
    "### 5.4 Range 쿼리\n",
    "\n",
    "Range 쿼리는 숫자 값에 대해 동작하며 쿼리에서 지정한 범위에 속하는 일치 항목을 반환합니다. 다음 비교 연산자를 사용할 수 있습니다.<br>\n",
    "- 보다 큼: gt\n",
    "- 보다 작음: lt\n",
    "- 크거나 같음: gte\n",
    "- 작거나 같음: lte\n",
    "<br><br>\n",
    "다음 쿼리는 2014와 2016 사이에 출시된 영화를 반환합니다. 다른 조건으로도 변형을 시도해 보십시오.\n",
    "<br>\n",
    "```\n",
    "GET my-movie-index/_search\n",
    "{\n",
    "  \"query\": {\n",
    "    \"range\": {\n",
    "      \"year\": {\n",
    "        \"gt\": 2014,\n",
    "        \"lt\": 2016\n",
    "      }\n",
    "    }\n",
    "  }\n",
    "}\n",
    "```"
   ]
  },
  {
   "cell_type": "code",
   "execution_count": null,
   "id": "d07b08f2-280a-479e-a21f-a9a2ba51e824",
   "metadata": {
    "tags": []
   },
   "outputs": [],
   "source": [
    "import requests\n",
    "from requests.auth import HTTPBasicAuth\n",
    "import json\n",
    "\n",
    "# POST 요청 URL (my-movie-index 검색)\n",
    "url = endpoint + '/my-movie-index/_search'\n",
    "\n",
    "# 검색 요청 본문\n",
    "body = {\n",
    "    \"query\": {\n",
    "        \"range\": {\n",
    "            \"year\": {\n",
    "                \"gt\": 2014,\n",
    "                \"lt\": 2016\n",
    "            }\n",
    "        }\n",
    "    }\n",
    "}\n",
    "\n",
    "response = requests.get(url, auth=HTTPBasicAuth(username, password), json=body)\n",
    "\n",
    "# 응답 확인\n",
    "print(response.status_code)\n",
    "print(json.dumps(response.json(), indent=4))\n"
   ]
  },
  {
   "cell_type": "markdown",
   "id": "87d980e6-4d67-408c-a0b5-94888eed266e",
   "metadata": {},
   "source": [
    "<br><br>이전과 마찬가지로 range 쿼리를 다른 유형의 쿼리와 결합할 수 있습니다.<br>\n",
    "이 쿼리는 \"year\" 필드의 값이 2014 초과이면서 동시에 2016 미만이며, \"genres\" 필드에 \"action\"이 포함된 문서를 검색합니다. \n",
    "```\n",
    "GET my-movie-index/_search\n",
    "{\n",
    "  \"query\": {\n",
    "    \"bool\": {\n",
    "      \"must\": [\n",
    "        {\n",
    "          \"range\": {\n",
    "            \"year\": {\n",
    "              \"gt\": 2014,\n",
    "              \"lt\": 2016\n",
    "            }\n",
    "          }\n",
    "        },\n",
    "        {\n",
    "          \"match\": {\n",
    "            \"genres\": \"action\"\n",
    "          }\n",
    "        }\n",
    "      ]\n",
    "    }\n",
    "  }\n",
    "}\n",
    "\n",
    "```\n"
   ]
  },
  {
   "cell_type": "code",
   "execution_count": null,
   "id": "05e5d6db-3cef-492e-87a8-c71be4b7942a",
   "metadata": {
    "tags": []
   },
   "outputs": [],
   "source": [
    "import requests\n",
    "from requests.auth import HTTPBasicAuth\n",
    "import json\n",
    "\n",
    "# POST 요청 URL (my-movie-index 검색)\n",
    "url = endpoint + '/my-movie-index/_search'\n",
    "\n",
    "\n",
    "# 검색 요청 본문\n",
    "body = {\n",
    "    \"query\": {\n",
    "        \"bool\": {\n",
    "            \"must\": [\n",
    "                {\n",
    "                    \"range\": {\n",
    "                        \"year\": {\n",
    "                            \"gt\": 2014,\n",
    "                            \"lt\": 2016\n",
    "                        }\n",
    "                    }\n",
    "                },\n",
    "                {\n",
    "                    \"match\": {\n",
    "                        \"genres\": \"action\"\n",
    "                    }\n",
    "                }\n",
    "            ]\n",
    "        }\n",
    "    }\n",
    "}\n",
    "\n",
    "response = requests.get(url, auth=HTTPBasicAuth(username, password), json=body)\n",
    "\n",
    "# 응답 확인\n",
    "print(response.status_code)\n",
    "print(json.dumps(response.json(), indent=4))\n"
   ]
  },
  {
   "cell_type": "markdown",
   "id": "ac95f412-1082-4d4f-a300-d3fc440cdd45",
   "metadata": {},
   "source": [
    "### 5.5 Boost 쿼리\n",
    "\n",
    "OpenSearch는 점수 알고리즘을 사용하여 문서를 반환하기 전에 점수를 매기고 정렬합니다. boosting 을 사용하여 점수에 영향을 줄 수 있습니다. 필드를 부스트하면 해당 필드에서 일치하는 용어의 점수에 부스트 계수를 곱합니다.<br><br>\n",
    "\n",
    "다음 예는 부스팅 전후의 샘플 쿼리를 보여줍니다. 부스팅 없이 출력 결과 세트는 검색어 \"horror\"에 대한 문서의 기본 순서를 갖게 됩니다.<br>\n",
    "이 쿼리는 \"title\"과 \"plot\" 필드 모두에서 \"horror\"를 검색합니다. \n",
    "<br>\n",
    "```\n",
    "GET my-movie-index/_search\n",
    "{\n",
    "  \"query\": {\n",
    "    \"multi_match\": {\n",
    "      \"query\": \"horror\",\n",
    "      \"fields\": [\"title\",\"plot\"]\n",
    "    }\n",
    "  }\n",
    "}\n",
    "\n",
    "```"
   ]
  },
  {
   "cell_type": "code",
   "execution_count": null,
   "id": "ecd65b50-5506-49f0-a517-afb5c67d3853",
   "metadata": {
    "tags": []
   },
   "outputs": [],
   "source": [
    "import requests\n",
    "from requests.auth import HTTPBasicAuth\n",
    "import json\n",
    "\n",
    "# POST 요청 URL (my-movie-index 검색)\n",
    "url = endpoint + '/my-movie-index/_search'\n",
    "\n",
    "# 검색 요청 본문\n",
    "body = {\n",
    "    \"query\": {\n",
    "        \"multi_match\": {\n",
    "            \"query\": \"horror\",\n",
    "            \"fields\": [\"title\",\"plot\"]\n",
    "        }\n",
    "    }\n",
    "}\n",
    "\n",
    "response = requests.get(url, auth=HTTPBasicAuth(username, password), json=body)\n",
    "\n",
    "# 응답 확인\n",
    "print(response.status_code)\n",
    "print(json.dumps(response.json(), indent=4))\n"
   ]
  },
  {
   "cell_type": "markdown",
   "id": "94419744-1294-45cb-937f-41ce081bc043",
   "metadata": {},
   "source": [
    "<br>\n",
    "부스트 기능을 사용하면 캐럿(^) 연산자를 사용하여 쿼리에 부스팅 요소를 추가하여 영화 제목 필드에서 찾은 결과에 더 큰 가중치를 할당할 수 있습니다.<br>\n",
    "예를 들어 \"title^2\"는 이 필드에서 일치 항목의 중요성을 두 배로 늘립니다. \"title^3\" 는 3배가 됩니다. 부스팅 적용 전과 후 결과의 _score를 비교합니다.<br>\n",
    "\n",
    "```\n",
    "GET my-movie-index/_search\n",
    "{\n",
    "  \"query\": {\n",
    "    \"multi_match\": {\n",
    "      \"query\": \"horror\",\n",
    "      \"fields\": [\"title^2\",\"plot\"]\n",
    "    }\n",
    "  }\n",
    "}\n",
    "```\n"
   ]
  },
  {
   "cell_type": "code",
   "execution_count": null,
   "id": "d4379d7a-35e3-49ab-a15b-1ffdad889f2a",
   "metadata": {
    "tags": []
   },
   "outputs": [],
   "source": [
    "import requests\n",
    "from requests.auth import HTTPBasicAuth\n",
    "import json\n",
    "\n",
    "# POST 요청 URL (my-movie-index 검색)\n",
    "url = endpoint + '/my-movie-index/_search'\n",
    "\n",
    "# 검색 요청 본문\n",
    "body = {\n",
    "    \"query\": {\n",
    "        \"multi_match\": {\n",
    "            \"query\": \"horror\",\n",
    "            \"fields\": [\"title^2\",\"plot\"]\n",
    "        }\n",
    "    }\n",
    "}\n",
    "\n",
    "response = requests.get(url, auth=HTTPBasicAuth(username, password), json=body)\n",
    "\n",
    "# 응답 확인\n",
    "print(response.status_code)\n",
    "print(json.dumps(response.json(), indent=4))\n"
   ]
  },
  {
   "cell_type": "markdown",
   "id": "ea41c2cd-56ee-4bab-93ab-b2752c837437",
   "metadata": {},
   "source": [
    "<br>\n",
    "title 필드에서 일치 항목의 가중치를 높임으로써 이제 결과의 순서가 변경되었음을 확인할 수 있습니다.<br>\n",
    "\n",
    ">참고<br>\n",
    ">검색에 OpenSearch를 사용할 때, 일반적으로 중요도에 따라 필드에 가중치를 부여합니다. title, product_name 등과 같은 필드는 일반적으로 description, plot, comments 등과 같은 설명 필드보다 일치에 더 중요합니다."
   ]
  },
  {
   "cell_type": "markdown",
   "id": "d510585e-df2d-4c90-b422-dca33363df69",
   "metadata": {},
   "source": [
    "## 6. 리소스 정리"
   ]
  },
  {
   "cell_type": "markdown",
   "id": "16137e99-d456-44c6-8397-4173131600ca",
   "metadata": {},
   "source": [
    "이 모듈에서는 추가 요금이 발생하지 않도록 이 단원에서 만든 리소스를 정리합니다.<br>\n",
    "아래 코드를 실행시켜 생성되었던 OpenSearch Domain을 삭제 합니다."
   ]
  },
  {
   "cell_type": "markdown",
   "id": "5e3beadb-7cc7-4533-a939-0db1cae0a668",
   "metadata": {},
   "source": [
    "다만, 이렇게 도메인을 삭제하면 데이터 및 설정이 모두 제거되므로, 운영환경에서의 삭제는 신중하게 고려해야 합니다.<br>\n",
    "도메인이 삭제될 때까지 수 분 시간이 걸릴 수 있습니다."
   ]
  },
  {
   "cell_type": "code",
   "execution_count": null,
   "id": "e51bffe7-8827-4484-b3ff-9463ca070585",
   "metadata": {
    "tags": []
   },
   "outputs": [],
   "source": [
    "def delete_opensearch_domain(domain_name):\n",
    "    client = boto3.client('opensearch')\n",
    "\n",
    "    response = client.delete_domain(\n",
    "        DomainName=domain_name\n",
    "    )\n",
    "\n",
    "    print(response)\n",
    "\n",
    "# OpenSearch 도메인 삭제\n",
    "delete_opensearch_domain(domain_name)\n"
   ]
  },
  {
   "cell_type": "markdown",
   "id": "06a20c12-a479-42cf-94df-9b8425c24602",
   "metadata": {},
   "source": [
    "아래 셀이 완료되면 OpenSearch Domain은 삭제가 완료됩니다."
   ]
  },
  {
   "cell_type": "code",
   "execution_count": null,
   "id": "fde81684-9936-468d-8638-ee8ef56048ef",
   "metadata": {
    "tags": []
   },
   "outputs": [],
   "source": [
    "# 삭제 상태 확인\n",
    "client = boto3.client('opensearch')\n",
    "while True:\n",
    "    try:\n",
    "        response = client.describe_domain(DomainName=domain_name)\n",
    "        print(f\"Domain status: {response['DomainStatus']['Processing']}\")\n",
    "\n",
    "        if response['DomainStatus']['Deleted'] == True:\n",
    "            print(f\"Domain {domain_name} Status : Deleting\")\n",
    "\n",
    "    except client.exceptions.ResourceNotFoundException:\n",
    "        print(f\"Domain {domain_name} not found. It may have been successfully deleted.\")\n",
    "        break\n",
    "\n",
    "    except Exception as e:\n",
    "        print(f\"Unexpected error: {e}\")\n",
    "        break\n",
    "\n",
    "    time.sleep(30)  # 30초마다 상태 확인\n"
   ]
  },
  {
   "cell_type": "code",
   "execution_count": null,
   "id": "71c50c5c-faf4-4a57-98a0-78ec70576fa7",
   "metadata": {},
   "outputs": [],
   "source": []
  }
 ],
 "metadata": {
  "instance_type": "ml.t3.medium",
  "kernelspec": {
   "display_name": "conda_python3",
   "language": "python",
   "name": "conda_python3"
  },
  "language_info": {
   "codemirror_mode": {
    "name": "ipython",
    "version": 3
   },
   "file_extension": ".py",
   "mimetype": "text/x-python",
   "name": "python",
   "nbconvert_exporter": "python",
   "pygments_lexer": "ipython3",
   "version": "3.10.15"
  }
 },
 "nbformat": 4,
 "nbformat_minor": 5
}
