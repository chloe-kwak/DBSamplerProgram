{
 "cells": [
  {
   "cell_type": "markdown",
   "id": "634715ef-9f99-4034-be47-1ed528d39589",
   "metadata": {
    "tags": []
   },
   "source": [
    "## Amazon ElastiCache for Redis Hands-on LAB\n",
    "\n",
    "본 워크샵을 통해 Amazon ElastiCache for Redis를 SageMaker Notebook 또는 SageMaker Studio 환경에서 간단히 실습합니다.\n",
    "\n",
    "Purpose-built database ['Getting Started' 핸즈온](https://aws.amazon.com/getting-started/hands-on/purpose-built-databases/elasticache/)을 참고하였습니다. "
   ]
  },
  {
   "cell_type": "markdown",
   "id": "4430ac30-4706-43b5-9ffe-a289af208a39",
   "metadata": {},
   "source": [
    "지난 단원에서는 사용자가 레스토랑을 리뷰하고 다른 사용자가 남긴 리뷰를 찾아볼 수 있는 애플리케이션을 만들었습니다. 이 애플리케이션의 기본 데이터베이스로 [Amazon DynamoDB](https://aws.amazon.com/ko/dynamodb/)를 사용했는데, 그 이유는 규모에 따른 성능 때문이었습니다.\n",
    "\n",
    "이 단원에서는 레스토랑 리뷰 애플리케이션에 캐싱을 추가하는 방법을 살펴봅니다. 캐싱은 기본 데이터 저장소에 대한 부담을 덜어주거나 인기 있는 워크플로의 대기 시간을 줄이는 데 도움이 될 수 있습니다.\n",
    "\n",
    "이 단원에서는 AWS에서 제공하는 완전 관리형 인메모리 캐싱 솔루션인 [Amazon ElastiCache](https://aws.amazon.com/ko/elasticache/)를 사용합니다. 먼저 ElastiCache를 사용해야 하는 이유를 알아봅니다. 그런 다음 ElastiCache 인스턴스를 생성 및 구성하고 애플리케이션에서 사용하는 단계를 살펴봅니다. 이 강의를 마치면 애플리케이션에서 언제, 어떻게 ElastiCache를 사용할 수 있는지 자신감을 갖게 될 것입니다."
   ]
  },
  {
   "cell_type": "markdown",
   "id": "edb6b61d-d179-4069-8c80-dbdc88857e9e",
   "metadata": {
    "tags": []
   },
   "source": [
    "## 왜 ElastiCache for Redis를 사용할까요?\n",
    "\n",
    "애플리케이션에는 기본 데이터 저장소로 내구성 있고 강력한 데이터베이스가 필요한 경우가 많습니다. 이는 [Amazon Aurora](https://aws.amazon.com/ko/rds/aurora/)와 같은 관계형 데이터베이스를 의미할 수도 있고, [DynamoDB](https://aws.amazon.com/ko/dynamodb/) 또는 [Amazon DocumentDB](https://aws.amazon.com/ko/documentdb/)(MongoDB 호환 가능)와 같은 NoSQL 데이터베이스를 의미할 수도 있습니다. 이러한 데이터베이스는 강력한 쿼리 기능과 함께 강력한 데이터 보장을 제공하므로 기본 데이터베이스로 매우 적합합니다.\n",
    "\n",
    "하지만 때로는 기본 데이터 저장소에서 얻을 수 있는 것보다 더 짧은 지연 시간이 필요합니다. 애플리케이션에 쓰기보다 읽기가 훨씬 더 자주 발생하는 일반적인 요청 흐름이 있을 수 있습니다. 이러한 상황에서는 인메모리 캐시를 사용하는 것이 도움이 될 수 있습니다. 자주 읽는 쿼리의 결과를 캐시에 저장하여 응답 시간을 개선하고 기본 데이터베이스에 대한 부담을 줄일 수 있습니다.\n",
    "\n",
    "ElastiCache는 두 가지 오픈 소스 인메모리 캐시 엔진에 대한 지원을 제공합니다: [Redis](https://redis.io/)와 [Memcached](https://memcached.org/)입니다. ElastiCache를 사용하면 완전히 관리되는 인메모리 캐시를 사용할 수 있습니다. 인스턴스 장애 조치, 백업 및 복원, 소프트웨어 업그레이드에 대한 책임이 없습니다. 따라서 고객을 위한 혁신에 집중할 수 있습니다.\n"
   ]
  },
  {
   "cell_type": "markdown",
   "id": "2355d9ce-1cbc-4191-b0d7-b46c1a10c321",
   "metadata": {},
   "source": [
    "## 단원 내용\n",
    "\n",
    "### 1. SageMaker Notebook 환경 구성하기\n",
    "이 단원에서는 Python을 사용하여  ElastiCache for Redis와 상호 작용합니다. SageMaker Notebook에서 다음 명령을 실행하여 모듈 코드를 다운로드하고 압축을 풉니다.\n"
   ]
  },
  {
   "cell_type": "code",
   "execution_count": null,
   "id": "533a6649-4554-4c22-9ec7-1b2b525da3af",
   "metadata": {
    "tags": []
   },
   "outputs": [],
   "source": [
    "!curl -sL https://s3.amazonaws.com/aws-data-labs/restaurant-cache.tar | tar -xv"
   ]
  },
  {
   "cell_type": "markdown",
   "id": "947ebd19-9307-45b8-b080-9dafbf3a92df",
   "metadata": {},
   "source": [
    "SageMaker Notebook에 다음 파일이 표시되어야 합니다:\n",
    "- cache.py\n",
    "- dynamodb.py\n",
    "- entities.py\n",
    "- fetch_restaurant_summary.py\n",
    "- items.json\n",
    "- README.md\n",
    "- requirements.txt\n",
    "- test_connection.py\n",
    "\n",
    "다음 명령을 실행하여 애플리케이션의 종속성을 설치합니다."
   ]
  },
  {
   "cell_type": "code",
   "execution_count": null,
   "id": "6c271b8e-a327-4e34-8413-43e12d45c1bb",
   "metadata": {
    "tags": []
   },
   "outputs": [],
   "source": [
    "!pip install -r requirements.txt"
   ]
  },
  {
   "cell_type": "code",
   "execution_count": null,
   "id": "c5446450-e5c8-4a6b-a20d-fb9bbb0ef052",
   "metadata": {
    "tags": []
   },
   "outputs": [],
   "source": [
    "!pip install redis"
   ]
  },
  {
   "cell_type": "markdown",
   "id": "d808764e-5fed-40ef-b56f-25361fbdd164",
   "metadata": {},
   "source": [
    "이 모듈에서는 개발에 사용할 SageMaker Notebook 환경을 구성했습니다. 다음 모듈에서는 ElastiCache를 사용하여 Redis 인스턴스를 생성합니다."
   ]
  },
  {
   "cell_type": "markdown",
   "id": "5d9d03c8-395e-405c-892d-b35c0883a8ef",
   "metadata": {},
   "source": [
    "### 2. ElastiCache를 사용하여 Redis 인스턴스 생성하기\n",
    "이 모듈에서는 Redis 엔진을 사용하여 ElastiCache 인스턴스를 프로비저닝합니다. 또한 Redis 인스턴스에 대한 액세스를 구성하고 SageMaker Notobook에서 연결을 테스트합니다.\n",
    "\n",
    "먼저 ElastiCache 콘솔로 이동합니다. 'Get Started'를 클릭하여 인스턴스 생성 마법사를 시작합니다.\n",
    "\n",
    "<img src=\"img/i1.png\" width=\"900\" height=\"400\">\n",
    "\n",
    "'Create Cluster'를 클릭하여 클러스터 생성을 시작합니다.\n",
    "\n",
    "<img src=\"img/i2.png\" width=\"900\" height=\"400\">\n",
    "\n",
    "클러스터 설정 섹션에서 'Configure and create a new cluster'를 선택합니다. Cluster mode는 'Disabled'를 선택합니다.\n",
    "\n",
    "<img src=\"img/i3.png\" width=\"900\" height=\"400\">\n",
    "\n",
    "클러스터 정보 섹션에서 클러스터 이름을 기입합니다. Location은 'AWS Cloud'를 선택하고 Multi-AZ는 선택하지 않습니다. \n",
    "\n",
    "<img src=\"img/i4.png\" width=\"600\" height=\"200\">\n",
    "\n",
    "클러스터 설정 섹션에서 Engine version은 '5.0.6'으로, Port는 '6379'로, Parameter groups는 'default.redis5.0'으로, Node type은 'cache.r6g.large'로, Number of replicas는 '0'으로 선택합니다. \n",
    "\n",
    "<img src=\"img/i5.png\" width=\"600\" height=\"200\">\n",
    "\n",
    "Connectivity에서는 Network type은 'IPv4'로, Subnet groups은 'Create a new subnet group'을 클릭하고, Name은 'dbsampler-redis-subnet'을 넣고, VPC ID는 기존재하는 VPC중에 하나를 선택합니다. \n",
    "\n",
    "<img src=\"img/i6.png\" width=\"600\" height=\"200\">\n",
    "\n",
    "나머지는 그대로 두고 'Next'를 클릭하여 'Create'를 클릭합니다.\n",
    "\n",
    "ElastiCache가 Redis 인스턴스 생성을 시작합니다. 인스턴스가 생성되는 동안 ElastiCache 콘솔에 생성 중 상태가 표시됩니다. ElastiCache 인스턴스가 준비되면, 해당 상태를 'available'로 확인할 수 있습니다.\n",
    "\n",
    "<img src=\"img/i7.png\" width=\"900\" height=\"200\">\n"
   ]
  },
  {
   "cell_type": "markdown",
   "id": "839e4d1d-3a6d-4da9-857c-4a5f2dd8c208",
   "metadata": {},
   "source": [
    "다음으로, AWS Notebook환경에서 Redis 인스턴스의 보안 그룹에 대한 인바운드 액세스를 허용해야 합니다. 이를 통해 Redis 인스턴스에 연결할 수 있습니다.\n",
    "\n",
    "Amazon EC2 콘솔의 보안 그룹 페이지로 이동합니다. ElastiCache 인스턴스에 사용한 기본 보안 그룹을 볼 수 있습니다.\n",
    "자세한 내용을 보려면 기본 보안 그룹을 선택하세요.\n",
    "<img src=\"img/i13.png\" width=\"600\" height=\"400\">\n",
    "\n",
    "기본 보안 그룹을 선택하면 그룹에 대한 세부정보와 보안 그룹에 대한 인바운드 규칙을 볼 수 있습니다. 인바운드 규칙 편집을 선택하여 규칙을 편집합니다.\n",
    "<img src=\"img/i8.png\" width=\"900\" height=\"400\">\n",
    "\n",
    "SageMaker Notebook은 Internet access가 가능하도록 구성되어 있기 때문에, inbound rules에서 Port는 Redis 기본 포트인 '6379'를 입력하고, Source는 인터넷 영역(0.0.0.0/0)으로 입력합니다. Save Rules를 클릭합니다. 'Save Rules'을 선택하여 새 인바운드 보안 그룹 규칙을 저장합니다.\n",
    "\n",
    "<img src=\"img/i9.png\" width=\"900\" height=\"400\">\n",
    "\n",
    "\n",
    "규칙 저장을 선택하여 새 인바운드 보안 그룹 규칙을 저장합니다.\n",
    "\n",
    "마지막으로, SageMaker Notebook 환경에서 Redis 인스턴스에 대한 연결을 테스트합니다. ElastiCache 콘솔에서 인스턴스를 찾아 세부 정보를 확장합니다. Primary 엔드포인트의 값을 찾아서 값을 복사합니다.\n",
    "\n",
    "다음 명령을 실행하여 SageMaker Notebook 환경에서 엔드포인트의 값을 설정합니다. Redis에 연결할 수 있는지 테스트하기 위한 test_connection.py라는 스크립트입니다. 스크립트의 내용은 다음과 같습니다."
   ]
  },
  {
   "cell_type": "code",
   "execution_count": null,
   "id": "dc5bdb1b-3fdd-4e30-a143-20cba531b523",
   "metadata": {
    "tags": []
   },
   "outputs": [],
   "source": [
    "%%writefile test_connection.py\n",
    "import os\n",
    "\n",
    "import redis\n",
    "\n",
    "HOST ='dbsampler-redis.e3dj3z.ng.0001.apn2.cache.amazonaws.com' #Primary Endpoint value \n",
    "r = redis.Redis(host=HOST)\n",
    "\n",
    "r.ping()\n",
    "\n",
    "print(\"Connected to Redis!\")"
   ]
  },
  {
   "cell_type": "markdown",
   "id": "c23707a2-58d9-40ed-9345-fe1098f01155",
   "metadata": {},
   "source": [
    "스크립트를 수행하여 Redis에 연결되었음을 확인합니다. "
   ]
  },
  {
   "cell_type": "code",
   "execution_count": null,
   "id": "f7728d94-97c4-4f72-817e-5515a88e8b65",
   "metadata": {
    "tags": []
   },
   "outputs": [],
   "source": [
    "!python test_connection.py"
   ]
  },
  {
   "cell_type": "markdown",
   "id": "72986e66-3681-41e1-9323-d9d040eefc9c",
   "metadata": {},
   "source": [
    "이 스크립트는 Python의 [redis 라이브러리](https://pypi.org/project/redis/)를 사용하여 Redis에 연결합니다. 이 스크립트는 터미널에서 설정한 REDIS_HOSTNAME 환경의 호스트 이름을 사용하여 Redis에 대한 연결을 초기화합니다. 그런 다음 Redis 서버에 대해 [PING 명령](https://redis.io/commands/ping/)을 실행합니다. 연결에 성공하면 연결할 수 있음을 나타내는 콘솔 출력이 표시됩니다. 예외가 표시되는 경우, 앞의 단계를 검토하여 환경 변수를 올바르게 설정하고 SageMaker Notebook환경에서 인바운드 액세스를 허용했는지 확인하세요.\n",
    "\n",
    "이 모듈에서는 ElastiCache를 사용하여 Redis 인스턴스를 생성했습니다. 또한 SageMaker Notebook 환경에서 들어오는 네트워크 트래픽을 허용하도록 Redis 인스턴스에서 보안 그룹을 구성했습니다. 마지막으로, SageMaker Notebook 환경에서 테스트 명령을 실행하여 구성이 올바른지 확인했습니다.\n",
    "\n",
    "다음 모듈에서는 Redis 인스턴스에서 캐시어사이드(cache-aside) 전략을 구현합니다."
   ]
  },
  {
   "cell_type": "markdown",
   "id": "0bcdb3a5-7dfe-44a5-92d2-6bc3675c942e",
   "metadata": {},
   "source": [
    "### 3. 인스턴스 상에서 캐시어사이드(cache-aside) 전략을 구현하기\n",
    "\n",
    "이 모듈에서는 Redis 인스턴스로 캐시어사이드(cache-aside) 전략을 구현하는 방법을 알아봅니다. 이 전략을 사용하여 레스토랑 평점 서비스에서 **Fetch Restaurant Summary** 액세스 패턴의 결과를 캐시합니다. 이렇게 하면 데이터베이스의 부하를 줄이고 최종 사용자에 대한 응답 시간을 단축하는 데 도움이 됩니다.\n",
    "\n",
    "애플리케이션에서 [캐싱을 구현하는 데는 여러 가지 전략](https://aws.amazon.com/ko/caching/best-practices/)이 있습니다. 가장 널리 사용되는 두 가지 전략은 캐시어사이드(또는 지연 캐싱(lazy caching)와 미리 쓰기 캐싱(write-ahead caching)입니다.\n",
    "\n",
    "캐시어사이드(cache-aside) 전략을 사용하면 결과를 처음 가져온 후에 캐싱됩니다. 예를 들어 특정 웹페이지에 캐시어사이드(cache-aside) 전략을 구현한다고 가정해 보겠습니다. 사용자가 처음으로 페이지를 요청하면 애플리케이션은 캐시에서 캐시된 데이터를 확인합니다. 첫 번째 요청이므로 해당 데이터는 캐시에 존재하지 않습니다. 애플리케이션은 데이터의 소스 데이터베이스로 이동하여 사용자에게 반환하기 전에 결과를 캐시에 저장합니다. 후속 요청 시에는 데이터를 캐시에서 사용할 수 있으므로 애플리케이션이 소스 데이터베이스로 이동할 필요가 없습니다.\n",
    "\n",
    "캐시어사이드(cache-aside) 전략은 데이터를 쓰는 빈도보다 읽는 빈도가 훨씬 더 잦을 때 유용합니다. 결과를 캐싱하면 데이터베이스에 과부하가 걸리는 것을 방지할 수 있습니다. 캐시어사이드(cache-aside) 전략을 사용할 때는 사용자에게 오래된 데이터를 표시하지 않도록 캐시된 데이터를 제거하거나 만료하는 방법에 대해 신중하게 생각해야 합니다.\n",
    "\n",
    "두 번째 전략인 미리 쓰기 캐싱(write-ahead caching)은 캐시에 데이터를 미리 추가하는 것입니다. 사용자가 처음으로 데이터를 요청할 때까지 기다리지 않고 데이터가 변경될 때마다 데이터를 업데이트합니다. 요청되는 데이터가 다른 소스에서 파생되어 쿼리 시점에 계산하기 어려운 경우 사용하기에 좋은 패턴입니다. 기초 데이터의 변경으로 인해 캐시가 무효화되는 시점을 잘 이해하고 있다면 미리 쓰기 전략(write-ahead caching)을 통해 응답 시간을 단축하고 최신 데이터를 확보할 수 있습니다.\n",
    "\n",
    "이 모듈에서는 캐시어사이드(cache-aside) 전략을 사용합니다. 레스토랑 평점 애플리케이션에서 **Fetch Restaurant Summary** 액세스 패턴을 구현할 때 DynamoDB에서 6개의 항목을 읽고 반환해야 합니다. 레스토랑 페이지 조회수가 리뷰보다 훨씬 더 일반적이기 때문에 이 데이터는 꽤 오랫동안 유효할 가능성이 높습니다. 따라서 이 데이터를 캐시하여 DynamoDB 테이블의 부하를 줄일 수 있습니다.\n",
    "\n",
    "SageMaker Notebook 환경에는 **fetch_restaurant_summary.py**라는 파일이 있습니다. 내용은 다음과 같아야 합니다."
   ]
  },
  {
   "cell_type": "code",
   "execution_count": null,
   "id": "c5e297c1-94f7-4585-82ce-0e60978c75a7",
   "metadata": {
    "tags": []
   },
   "outputs": [],
   "source": [
    "%%writefile fetch_restaurant_summary.py\n",
    "from dynamodb import fetch_restaurant_summary_from_database\n",
    "from cache import fetch_restaurant_summary_from_cache, store_restaurant_summary_in_cache\n",
    "\n",
    "\n",
    "def fetch_restaurant_summary(restaurant_name):\n",
    "    restaurant = fetch_restaurant_summary_from_cache(restaurant_name)\n",
    "    if restaurant:\n",
    "        print(\"Using cached result!\")\n",
    "        return restaurant\n",
    "\n",
    "    restaurant = fetch_restaurant_summary_from_database(restaurant_name)\n",
    "    store_restaurant_summary_in_cache(restaurant)\n",
    "\n",
    "    print(\"Using uncached result!\")\n",
    "\n",
    "    return restaurant\n",
    "\n",
    "\n",
    "restaurant = fetch_restaurant_summary(\"AnyCompany Fine Dining\")\n",
    "\n",
    "print(restaurant)\n",
    "for review in restaurant.reviews:\n",
    "    print(review)\n"
   ]
  },
  {
   "cell_type": "markdown",
   "id": "0117890a-e4b6-4ba7-a83b-e4f4247651a0",
   "metadata": {},
   "source": [
    "이 파일에는 애플리케이션에서 사용할 수 있는 함수와 유사한 **fetch_restaurant_summary** 함수가 포함되어 있습니다. 이 함수는 레스토랑 이름을 받아 다음 작업을 수행합니다:\n",
    "\n",
    "- Redis 캐시에서 레스토랑 요약을 확인합니다. 데이터가 캐시에 있으면 사용자에게 반환됩니다.\n",
    "- 데이터가 캐시에 존재하지 않으면 이 함수는 DynamoDB에서 레스토랑 요약을 검색합니다. 여기에는 DynamoDB 단원에서 **Fetch Restaurant Summary** 액세스 패턴을 처리하는 데 사용된 것과 유사한 코드가 사용됩니다.\n",
    "- DynamoDB에서 결과를 받은 후 함수는 향후 요청을 위해 결과를 Redis에 캐시합니다.\n",
    "- 요약 내용은 사용자에게 반환됩니다.\n",
    "\n",
    "Redis 캐시와 상호 작용하기 위한 코드가 포함된 **cache.py**라는 파일이 있습니다. 내용은 다음과 같습니다."
   ]
  },
  {
   "cell_type": "markdown",
   "id": "2ffb0734-e948-48c8-843c-652b02f1f9e5",
   "metadata": {},
   "source": [
    "여기에는 두 가지 함수가 있습니다. 첫 번째 함수는 Redis에 레스토랑 요약을 저장하는 함수입니다. 이 함수는 레스토랑 이름을 Redis의 키 이름으로 사용하고 레스토랑 요약을 JSON 문자열로 변환합니다. 그런 다음 Redis [SET 명령](https://redis.io/commands/set/)을 사용하여 Redis에서 문자열 키의 값을 설정합니다. 이 때 값이 15분 후에 만료되도록 TTL(Time to Live) 값 900을 사용합니다. 이렇게 하면 데이터가 너무 오래되지 않도록 하는 데 도움이 됩니다.\n",
    "\n",
    "두 번째 함수는 Redis에서 레스토랑 요약을 검색하는 역할을 담당합니다. 이 함수는 레스토랑 이름을 가져와서 Redis [GET 명령](https://redis.io/commands/get/)을 수행하여 값을 검색합니다. 그런 다음 데이터를 구문 분석하고 애플리케이션의 객체로 재구성한 후 결과를 반환합니다.\n",
    "\n",
    "다음 명령을 실행하여 이 캐시 사용량을 테스트할 수 있습니다.\n",
    "\n",
    "**python fetch_restaurant_summary.py**"
   ]
  },
  {
   "cell_type": "code",
   "execution_count": null,
   "id": "e85110d9-ea23-40dd-9240-8e24eaf0d266",
   "metadata": {},
   "outputs": [],
   "source": [
    "%%time \n",
    "!python fetch_restaurant_summary.py"
   ]
  },
  {
   "cell_type": "markdown",
   "id": "9966f6f4-9637-464d-9593-a3d76214e008",
   "metadata": {
    "tags": []
   },
   "source": [
    "이 명령을 처음 실행하면 다음과 같은 출력이 표시됩니다.\n",
    "\n",
    "<img src=\"img/r1.png\" width=\"600\" height=\"200\">\n",
    "\n",
    "스크립트에서 레스토랑과 리뷰를 출력하기 전에 캐시되지 않은 결과를 사용했음을 알 수 있습니다.\n"
   ]
  },
  {
   "cell_type": "markdown",
   "id": "aefe331b-c5e5-451b-981a-405e202de6a5",
   "metadata": {},
   "source": [
    "스크립트를 다시 실행하여 캐싱 동작을 테스트하세요.\n",
    "\n",
    "**python fetch_restaurant_summary.py**"
   ]
  },
  {
   "cell_type": "code",
   "execution_count": null,
   "id": "199f5893-f111-442b-959f-064eb913e88f",
   "metadata": {
    "tags": []
   },
   "outputs": [],
   "source": [
    "%%time \n",
    "!python fetch_restaurant_summary.py"
   ]
  },
  {
   "cell_type": "markdown",
   "id": "76feaa5d-c581-4059-8d05-de4c3495c46b",
   "metadata": {
    "tags": []
   },
   "source": [
    "이번에는 다음과 같은 출력이 표시되어야 합니다.\n",
    "\n",
    "<img src=\"img/r2.png\" width=\"600\" height=\"200\">\n",
    "\n",
    "스크립트에서 이번에는 캐시된 결과를 사용하고 있음을 알 수 있습니다. 하지만 출력된 값은 여전히 DynamoDB에서 처음 가져온 것과 동일합니다. 키에 설정된 TTL(만료 값 900초)에 따라, 다음 15분 동안 이러한 결과는 캐시된 결과를 신속하게 제공하기 위해 Redis 인스턴스에 유지됩니다.\n",
    "\n",
    "이 모듈에서는 캐시어사이드 캐싱(cache-aside caching)과 미리 쓰기 캐싱(write-ahead caching)이라는 두 가지 인기 있는 캐싱 전략에 대해 배웠습니다. 그리고 애플리케이션에서 캐시어사이드(cache-aside) 전략을 구현하는 방법을 살펴보았습니다. 캐시어사이드(cache-aside) 전략은 애플리케이션 성능을 향상시키고 기본 데이터베이스의 부하를 줄이는 쉬운 방법이 될 수 있습니다.\n",
    "\n",
    "다음 모듈에서는 이 단원에서 만든 리소스를 정리합니다."
   ]
  },
  {
   "cell_type": "markdown",
   "id": "ed819b4d-87ea-4a18-aaf1-814b29ed8ab4",
   "metadata": {},
   "source": [
    "### 4. 리소스 정리하기\n",
    "이 단원에서는 ElastiCache를 사용해 인메모리 캐시 인스턴스를 생성했습니다. 인메모리 캐시는 애플리케이션에서 빠른 응답 시간을 제공하고 부하를 줄일 수 있는 좋은 방법입니다. ElastiCache를 사용하면 사용자에게 가치를 제공하는 데 집중할 수 있는 완전히 관리되는 환경을 얻을 수 있습니다.\n",
    "\n",
    "이 모듈에서는 추가 요금이 발생하지 않도록 이 단원에서 생성한 리소스를 정리하세요.\n",
    "\n",
    "먼저 ElastiCache 인스턴스를 삭제합니다. ElastiCache 콘솔로 이동합니다. 이 모듈에 대해 생성한 ElastiCache 인스턴스를 찾아 확인란을 선택합니다. 그런 다음 삭제를 선택하여 인스턴스를 삭제합니다.\n",
    "\n",
    "<img src=\"img/i11.png\" width=\"900\" height=\"400\">\n",
    "\n",
    "확인 창에서 Redis 인스턴스에 대한 최종 백업 생성 옵션을 거부한 다음 삭제를 선택합니다.\n",
    "\n",
    "<img src=\"img/i12.png\" width=\"500\" height=\"200\">\n",
    "\n",
    "또한 SageMaker Notebook 환경도 삭제해야 합니다.\n",
    "\n",
    "이렇게 하려면 SageMaker Notebook 콘솔로 이동합니다. 이 단원을 위해 생성한 환경을 선택한 다음 삭제를 선택합니다.\n",
    "\n",
    "캐싱은 애플리케이션의 고성능을 유지하는 데 중요한 도구입니다. 이 단원에서는 애플리케이션에서 일반적으로 사용되는 액세스 패턴의 속도를 높이기 위해 캐시를 생성하고 사용하는 방법을 살펴보았습니다. 앞으로 캐시를 사용하는 데 자신감을 가질 수 있을 것입니다.\n"
   ]
  }
 ],
 "metadata": {
  "kernelspec": {
   "display_name": "conda_python3",
   "language": "python",
   "name": "conda_python3"
  },
  "language_info": {
   "codemirror_mode": {
    "name": "ipython",
    "version": 3
   },
   "file_extension": ".py",
   "mimetype": "text/x-python",
   "name": "python",
   "nbconvert_exporter": "python",
   "pygments_lexer": "ipython3",
   "version": "3.10.8"
  }
 },
 "nbformat": 4,
 "nbformat_minor": 5
}
